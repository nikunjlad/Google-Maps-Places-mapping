{
 "cells": [
  {
   "cell_type": "markdown",
   "metadata": {},
   "source": [
    "# Importing the libraries\n",
    "\n",
    "Importing the sqlite3, json and codecs libraries"
   ]
  },
  {
   "cell_type": "code",
   "execution_count": 1,
   "metadata": {
    "collapsed": true
   },
   "outputs": [],
   "source": [
    "import sqlite3\n",
    "import json\n",
    "import codecs\n",
    "from IPython.display import HTML"
   ]
  },
  {
   "cell_type": "markdown",
   "metadata": {},
   "source": [
    "# Connecting to a database and setting up a cursor\n",
    "\n",
    "The following command will open a connection to the existing SQLLite database. If the given database name does not exist then this call will create the database."
   ]
  },
  {
   "cell_type": "code",
   "execution_count": 2,
   "metadata": {},
   "outputs": [
    {
     "name": "stdout",
     "output_type": "stream",
     "text": [
      "<sqlite3.Connection object at 0x7fa41f6645a0>\n",
      "<sqlite3.Cursor object at 0x7fa41f6506c0>\n"
     ]
    }
   ],
   "source": [
    "conn = sqlite3.connect('geodata.sqlite')\n",
    "print conn                      # This returns a connection object, since the database is loaded successfully.\n",
    "cur = conn.cursor()\n",
    "print cur                       # This returns a cursor object which will be used throughout the database."
   ]
  },
  {
   "cell_type": "markdown",
   "metadata": {},
   "source": [
    "# Quering the database and creating a json file to write the information"
   ]
  },
  {
   "cell_type": "code",
   "execution_count": 3,
   "metadata": {},
   "outputs": [
    {
     "name": "stdout",
     "output_type": "stream",
     "text": [
      "<sqlite3.Cursor object at 0x7fa41f6506c0>\n"
     ]
    }
   ],
   "source": [
    "# Selecting all the data from the locations table present in the database\n",
    "cur.execute('SELECT * FROM Locations')\n",
    "print cur                       # cursor handle returned with updated information"
   ]
  },
  {
   "cell_type": "markdown",
   "metadata": {},
   "source": [
    "Following line will create a .json file named **location.js** with **write(w)** permissions and **UTF-8** encoding format. codecs will store the object which handles this newly created file into a variable named **fhand**. This object is then used to write data which is queried from the database **geodata.sqlite** into the file **location.js**. "
   ]
  },
  {
   "cell_type": "code",
   "execution_count": 4,
   "metadata": {
    "collapsed": true
   },
   "outputs": [],
   "source": [
    "fhand = codecs.open('location.js','w', \"utf-8\")\n",
    "fhand.write(\"myData = [\\n\")"
   ]
  },
  {
   "cell_type": "markdown",
   "metadata": {},
   "source": [
    "# Updating the location.js file with the geographic information\n",
    "\n",
    "Following loop will take each row of data present inside the cursor handler **cur** (which apparently is the entire **Locations** table present inside the loaded database) and update the json file with the geographic details of all universities around the world "
   ]
  },
  {
   "cell_type": "code",
   "execution_count": 5,
   "metadata": {
    "collapsed": true
   },
   "outputs": [],
   "source": [
    "count = 0                       # creating a counter variable         \n",
    "for row in cur:\n",
    "    data = str(row[0])          # row contains a single row data entry in the table.  \n",
    "    data = str(row[1])          # this contains extensive geographic information pertaining to each university.\n",
    "    \n",
    "    # This is used to deserialize the json document code into Python format\n",
    "    try: js = json.loads(str(data))\n",
    "    except: continue\n",
    "        \n",
    "    # if status of each college information provided in the json document is not 'OK' then continue.    \n",
    "    if not('status' in js and js['status'] == 'OK') : continue\n",
    "        \n",
    "    # acquire latitude and longitude of each university    \n",
    "    lat = js[\"results\"][0][\"geometry\"][\"location\"][\"lat\"]\n",
    "    lng = js[\"results\"][0][\"geometry\"][\"location\"][\"lng\"]\n",
    "    \n",
    "    # if latitude and longitude are 0 then continue\n",
    "    if lat == 0 or lng == 0 : continue\n",
    "        \n",
    "    # acquire the address of each university.\n",
    "    where = js['results'][0]['formatted_address']\n",
    "    where = where.replace(\"'\",\"\")\n",
    "    \n",
    "    # writing the data acquired from the database into the json file\n",
    "    try :\n",
    "        count = count + 1\n",
    "        if count > 1 : fhand.write(\",\\n\")\n",
    "        output = \"[\" + str(lat) + \",\" + str(lng) + \", '\" + where + \"']\"\n",
    "        fhand.write(output)\n",
    "    except:\n",
    "        continue"
   ]
  },
  {
   "cell_type": "markdown",
   "metadata": {},
   "source": [
    "# Closing file and cursor handlers\n",
    "\n",
    "Having successfully written the data into location.js file, we close the file handler and the cursor handler used for querying the database."
   ]
  },
  {
   "cell_type": "code",
   "execution_count": 6,
   "metadata": {},
   "outputs": [
    {
     "name": "stdout",
     "output_type": "stream",
     "text": [
      "193 records written to location.js\n",
      "Open where.html to view the data in a browser\n"
     ]
    }
   ],
   "source": [
    "fhand.write(\"\\n];\\n\")\n",
    "\n",
    "# closing the cursor handler and json object handler\n",
    "cur.close()\n",
    "fhand.close()\n",
    "\n",
    "print count, \"records written to location.js\"\n",
    "print \"Open where.html to view the data in a browser\""
   ]
  },
  {
   "cell_type": "markdown",
   "metadata": {},
   "source": [
    "# Google Maps with the location of all universities present in the database\n",
    "\n",
    "Universities added using geoload.py\n",
    "1. K. J. Somaiya College Of Engineering, Vidyavihar, Ghatkophar\n",
    "2. Rungta College of Engineering and Technology, Kohka-Kurud Road, Bhilai\n",
    "3. MKSSS's Cummins College Of Engineering for woman, Karve Nagar, Pune\n",
    "4. Shri Ramdeobaba College of Engineering and Management, Katol Road, Nagpur"
   ]
  },
  {
   "cell_type": "code",
   "execution_count": 7,
   "metadata": {
    "scrolled": true
   },
   "outputs": [
    {
     "data": {
      "text/html": [
       "<iframe src = \"where.html\", width = 100%, height = \"500\"></iframe>"
      ],
      "text/plain": [
       "<IPython.core.display.HTML object>"
      ]
     },
     "execution_count": 7,
     "metadata": {},
     "output_type": "execute_result"
    }
   ],
   "source": [
    "HTML('<iframe src = \"where.html\", width = 100%, height = \"500\"></iframe>')"
   ]
  }
 ],
 "metadata": {
  "kernelspec": {
   "display_name": "Python 2",
   "language": "python",
   "name": "python2"
  },
  "language_info": {
   "codemirror_mode": {
    "name": "ipython",
    "version": 2
   },
   "file_extension": ".py",
   "mimetype": "text/x-python",
   "name": "python",
   "nbconvert_exporter": "python",
   "pygments_lexer": "ipython2",
   "version": "2.7.13"
  }
 },
 "nbformat": 4,
 "nbformat_minor": 2
}
